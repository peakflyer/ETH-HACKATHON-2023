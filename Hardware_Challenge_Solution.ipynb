{
 "cells": [
  {
   "attachments": {},
   "cell_type": "markdown",
   "metadata": {},
   "source": [
    "# Hardware challenge \n",
    "\n",
    "## Introduction \n",
    "Welcome to the Hardware Challenge! I hope you had a great time learning about QAOA and AQO to solve the TSP. Now that you know thoroughly how the two algorithms work, it is time to device strategies to run it on real hardware. But beware! This is not an easy task. In fact, it is an open question. This challenge will put all yours skills as researchers to test. As we really want you to success, we will provide you with a lot of information. Your main task is not just programming a simulation but to thoroughly understand all the challenges that such a implementation pose. You will be asked to discuss the pros and cons of different implementations, to thoroughly explain your architectural choices and to provide toy simulation examples to support your claims. Are you ready for the challenge?\n",
    "\n",
    "During the challenge you will encounter several questions. We don't expect you to fully answer all of them but rather we want you to understand every challenge that a physical implementation of TSP entails. At the end of the tutorial, you will find all the things we expect you to implement."
   ]
  },
  {
   "attachments": {},
   "cell_type": "markdown",
   "metadata": {},
   "source": [
    "## Environment setup\n",
    "\n",
    "For this tutorial we will mainly follow [1] and we will use its associated library: CAS [2]. For the more advanced user we recommend using scqubits [4,5] for the simulation of the superconducting circuit and its energy spectrum, and QuTip [6] for the time evolution of the system. \n",
    "\n",
    "We recommend to install all the packages in a conda environment. A modern version of python 3.9-3.10 is recommended. To create the environment run: \n",
    "```\n",
    "conda create -n hackathon python=3.10.0 ipython\n",
    "```\n",
    "To activate the environment run the following command in the terminal: `conda activate hackathon`. \n",
    "\n",
    "Alternatively, you can skip this step but just make sure you have python 3.9 or higher installed on your machine. \n",
    "\n",
    "Then install the CAS library using the following steps:\n",
    "\n",
    "1. To install CAS[2] you have to clone the repository in your system. \n",
    "\n",
    "2. Then open your terminal in the folder where you have saved the repository or navigate there using the command `cd`. \n",
    "\n",
    "3. Once in the correct folder, use the command `pip install -e .`. \n",
    "\n",
    "2. To install scqubits just run the command:\n",
    "```\n",
    "conda install -c conda-forge scqubits\n",
    "```\n",
    "3. To install QuTip run the commands:\n",
    "```\n",
    "conda install qutip\n",
    "```\n",
    "```\n",
    "conda config --append channels conda-forge\n",
    "```\n",
    "\n",
    "\n",
    "Now you are all set to go!"
   ]
  },
  {
   "attachments": {},
   "cell_type": "markdown",
   "metadata": {},
   "source": [
    "## From Circuit Hamiltonian to Pauli Hamiltonian \n",
    "\n",
    "During this tutorial we reproduce, for educational purposes, the examples implemented in [2] and [1]. To run the quantum algorithm we use superconducting qubits. Superconducting circuits are one of the most popular hardware platforms to implement these kind of computations. Their fundamental elements are Josephson junctions made of a superconducting material. In the superconducting material, at low enough temperatures, Cooper pairs (two electrons bounded together) are formed. The Cooper pairs act as bosons whose condensate macroscopic wave function retains its quantum behavior. The Josephson junction is a barrier through which the Cooper pairs can tunnel. This tunneling can be controlled through external parameters. In the lumped-element circuit approximation, the Josephson junction acts as a non-linear inductor with a capacitance. During this challenge we will focus on Capacitively Shunted Flux Qubits (CSFQ) and couplers.\n",
    "\n",
    "![CSFQ [1]](./images/CSFQ.png)\n",
    "\n",
    "**Optional Question(Research-level): Why do you think these are appropriate elements to perform the annealing? Can you think of alternatives? Idea: support your answer by doing some simulation with scqubits.**\n",
    "\n",
    "- Why Josephson junction: non linear element -> anharmonic oscillator with different energy gaps between all levels -> one delta_E connects two specific energy states that can than act as the qubit 0 and 1 state\n",
    "\n",
    "- Why CSFQ: keine Ahnung. Well known mapping from circuit model to qubit Hamiltonian in Pauli schedule -> \"easily\"/ very clearly understood\n",
    "\n",
    "In [1] you have all the information on how to obtain the Hamiltonian for the two circuit elements.\n",
    "\n",
    "For annealing with flux qubits we can control the qubit gap and its persistent current. This persistent current corresponds to a tiltable double-well potential, where the states in each well are associated with persistent currents that flow in opposite directions. The magnitude of the persistent current (PC) is associated with the strength of the $\\sigma^z$ term in the Hamiltonian, and the tunneling amplitude between the two wells is associated with the strength of the $\\sigma^x$ term in the Hamiltonian. In a typical anneal, flux qubits are initialized with a low barrier that yields large tunneling between the wells (transverse field), and towards the end of the anneal the barrier is raised and the double-well is tilted, which supresses the tunneling and give the qubit a net persistent current (longitudinal field).\n",
    "\n",
    "![Transverse Field Ising Hamiltonian [13]](./images/Transverse-Field-Ising-Hamiltonian.png)\n",
    "\n",
    "- transverse field controls height of potential well barrier, longitudinal field controls bias towards either side. See last source [12]\n",
    "- dashed lines: one annealing path, reason for scewed path: asymmetry effect (see [12])\n",
    "- on the right: for large tilt values, first two eigenenergies on one side of the potential double-well -> Ising model doesn't apply, circuit != flux qubit\n",
    "\n",
    "The flux qubit circuit is controlled via two flux biases denoted $\\varphi_x$ and $\\varphi_z$. For a given set of biases, we first find the two lowest eigenstates of the multi-level circuit Hamiltonian of the flux qubit, which we use to build the (two-level) qubit model. In the case of gate-based quantum computation using transmons, the low-energy eigenstates themselves are used as the computational basis, since the dispersive readout is a measurement in the energy eigenbasis. However, in QA we perform a persistent current measurement at the end of each anneal. \n",
    "\n",
    "![Qubit-Control [13]](./images/Qubit-Control.png)\n",
    "\n",
    " For a CSFQ the operator is: \n",
    "\n",
    "$$\\hat{I}_p = - \\frac{I_z}{2}[\\sin(\\hat{\\varphi}_3 + \\varphi_z/2)-\\sin(\\hat{\\varphi}_3- \\hat{\\varphi}_2-\\varphi_z/2)].$$ \n",
    "\n",
    " (Appendix A)\n",
    "\n",
    "We are interested in describing how a superconducting circuit formed by flux qubits and couplers is mapped onto an effective qubit (Pauli) model. We need to map the multilevel circuit hamiltonian onto an effective qubit (Pauli) model. We need the computational basis to be the eigenstates of the PC (persistent current. magnitude ~ sigma_z, tunneling amplitude in either direction ~sigma_x) measurement operator. We write the PC matrix in the low-energy subspace as \n",
    "$$\n",
    "I_p^{low} = \\begin{pmatrix}\\bra{g}\\hat{I}_p\\ket{g} & \\bra{g}\\hat{I}_p\\ket{e} \\\\ \\bra{e}\\hat{I}_p\\ket{g} & \\bra{e}\\hat{I}_p\\ket{e}  \\end{pmatrix},\n",
    "$$\n",
    "where $\\{\\ket{g},\\ket{e}\\}$ are the ground and excited eigenstates of the circuit Hamiltonian of the flux qubit with eigenenergies $\\{E_g, E_e\\}$ respectively.\n",
    "\n",
    "Note that for in order to associate the flux qubit states to circulating currents flowing in opposite directions, we require the eigenvalues of $Ip^{low}$ to have opposite signs. If we tilt the qubit potential beyond a certain point, then the first two eigenstates of the circuit will both be localized in the same well and the eigenvalues of $I_{p}^{low}$ will have the same sign. This puts an upper bound on the tilt-bias $|\\varphi_z|$, beyond which the flux circuit cannot be implemented using annealing. \n",
    "\n",
    "Let $V_p$ be the unitary matrix (in the $\\{\\ket{g}, \\ket{e}\\}$ basis) that diagonalizes $I_p^{low}$ and has the eigenstates of $I_{p}^{low}$ as its columns. The computational basis $\\{\\ket{0},\\ket{1}\\}$ is then defined by the eigenstates of the $I_p^{low}$ operator, and in a slight abuse of notation we express them as:e\n",
    "\n",
    "$$\n",
    "\\begin{pmatrix} \\ket{0} \\\\ \\ket{1} \\end{pmatrix} = V_p^{\\dagger}\\begin{pmatrix}\\ket{g} \\\\ \\ket{e}\\end{pmatrix}.\n",
    "$$\n",
    "\n",
    "The effective Hamiltonian matrix in the computational basis is then given by\n",
    "\n",
    "$$\n",
    "H_{eff} = \\begin{pmatrix} \\bra{0} H_{eff} \\ket{0} & \\bra{0} H_{eff} \\ket{1} \\\\ \\bra{1} H_{eff} \\ket{0} & \\bra{1} H_{eff} \\ket{1} \\end{pmatrix} = V_p^{\\dagger}\\begin{pmatrix} E_g & 0 \\\\ 0 & E_e \\end{pmatrix} V_p.\n",
    "$$\n",
    "\n",
    "We extract the Pauli coefficients by rewriting the effective Hamiltonian as \n",
    "\n",
    "$$\n",
    "H_{eff} = \\alpha_x \\sigma^x + \\alpha_y \\sigma^y + \\alpha_z \\sigma^z + \\alpha_I \\sigma^I,\n",
    "$$\n",
    "\n",
    "where the Pauli operators are given by $\\sigma^I = \\ket{0}\\bra{0} + \\ket{1}\\bra{1}, \\sigma^x = \\ket{0}\\bra{1} + \\ket{1}\\bra{1}, \\sigma^y = -i \\ket{0}\\bra{1} + i \\ket{1}\\bra{0}, \\text{ and } \\sigma^z = \\ket{0}\\bra{0} - \\ket{1}\\bra{1}.$\n",
    "\n",
    "For simplicity we set, $\\alpha_y = 0$  and $\\alpha_x > 0$  by applying additional unitary transformations to the computational basis. After imposing the above constraints, we write the single qubit Hamiltonian as a standard transverse field Ising Hamiltonian\n",
    "\n",
    "$$\n",
    "H_{eff} = h^x \\sigma^x + h^z\\sigma^z,\n",
    "$$\n",
    "\n",
    "where $h^x$ and $h^z$ are Pauli coefficients for given qubit circuit biases of $\\varphi_x$ and $\\varphi_z$. \n",
    "\n",
    "Das macht ultra Sinn! Die ganzen trafos circuit/ physical implementation -> hamiltonian and pauli schedule\n",
    "\n",
    "Now, we consider the case of $N$ flux qubits that are coupled to each other via $M$ tunable coupler elements, and each circuit element has a given set of external biases. The Hamiltonian for such a system consisting of CSFQs and tunable couplers can be derived. First, we separate the qubit, coupler, and interactions terms as\n",
    "\n",
    "$$\n",
    "\\begin{align}H^{tot} &= H_0 + H_{int}, \\\\ H_0 &= \\sum_{i=1}^N H_i^q + \\sum_{i=1}^M H_i^{cpl}, \\end{align}\n",
    "$$\n",
    "\n",
    "where $H_i^q$ is the loaded Hamiltonian of the $i^{th}$ qubit, $H_{i}^{cpl}$ is the loaded Hamiltonian of the $i^{th}$ coupler, $H_0$  is the non-interacting part of the Hamiltonian, and $H_{int}$ includes all the interaction terms between these elements. We want our qubit subspace (= ein einzelnes qubit) to be spanned by the two lowest eigenstates of each non-interacting qubit circuit, and since the couplers are designed to adiabatically follow the qubits and remain in their ground state, the qubit subspace will also be spanned by the ground state of each non-interacting coupler circuit. However, the interaction term $H_{int}$ mixes the states inside the qubit subspaces with the higher excited states outside of it. Therefore, we employ the Schrieffer-Wolff (SW) transformation to find an effective Hamiltonian that acts on the qubit subspace. This essentially block-diagonalizes the total circuit Hamiltonian with respect to the qubit subspace, taking into account the effect of the interaction on the low-energy subspace while preserving the low-energy spectrum of the circuit.\n",
    "\n",
    "Formally, let us define the projector onto the low-energy qubit subspace of the interacting and non-interacting circuits as \n",
    "\n",
    "$$\n",
    "\\begin{align*} P_0 &= \\sum_{i = 0}^{2^N - 1} \\ket{E_i^{(0)}}\\bra{E_i^{(0)}}, \\\\ P &= \\sum_{i = 0}^{2^N - 1} \\ket{E_i}\\bra{E_i} \\end{align*}\n",
    "$$\n",
    "\n",
    "where $\\ket{E_i^{(0)}}$ is the $i^{th}$ eigenstate of the non-interacting Hamiltonian $H_0$, and $\\ket{E_i}$ is the $i^{th}$ eigenstate of the total Hamiltonian $H^{tot}$. The SW transformation is then \n",
    "\n",
    "$$\n",
    "U_{sw} = \\sqrt{(2P_0 + I)(2P - I)},\n",
    "$$\n",
    "\n",
    "and the effective qubit-subspace Hamiltonian is \n",
    "\n",
    "$$\n",
    "H_q = P_0 U_{sw}H^{tot}U_{sw}^{\\dagger}P_0,\n",
    "$$\n",
    "\n",
    "where $H_q$ acts on the qubit subspace and has the same $2^N$-dimensional low-energy spectrum as the total circuit Hamiltonian. We can now calculate the Pauli coefficients of our system using \n",
    "\n",
    "$$\n",
    "h_{\\vec{r}} = \\frac{1}{2^N} Tr(H_q S_{\\vec{r}}),\n",
    "$$\n",
    "\n",
    "where $S_{\\vec{r}} = \\sigma^{r_1} \\otimes \\sigma^{r_2} \\otimes \\dots \\otimes \\sigma^{r_N} \\otimes P_c$  consists of single qubit Pauli operators of the $i^{th}$ qubit $\\sigma^{r_i}$, which is calculated for non-interacting qubit circuits. The operator $P_c = \\ket{g_{c,1}}\\bra{g_{c,2}}\\otimes \\cdots \\otimes \\ket{g_{c,M}}\\bra{g_{c,M}}$ consists of the projectors onto the ground state of the $i^{th}$ (loaded) non-interacting coupler circuit $\\ket{g_{c,i}}\\bra{g_{c,i}}$.\n",
    "\n",
    "But this does not scale efficiently. Let us assume that we have a circuit of $N$ qubits and $M$ couplers, each with a truncation (i.e., Hilbert space dimension) of $q$  and $c$ respectively. The joint system then has a Hilbert space dimension of $q^Nc^M,$ which grows exponentially with the number of qubits and couplers. Therefore, the computational cost of calculating the full-SW Pauli coefficients, which requires diagonalizing a matrix of dimension $q^Nc^M$, scales exponentially with the number of circuit elements, and can only be calculated for a handful of qubits and couplers.\n",
    "\n",
    "To target larger system sizes, [1] propose an approximation scheme where the system is divided into pairs of flux qubits that interact via a tunable coupler circuit. For each pair, the single qubit Pauli coefficients are calculated for non-interacting but loaded qubit circuits, and then the coefficients relating their interaction (two-qubit Pauli terms) are calculated via SW between those pairs only, neglecting other parts of the circuit. Let us consider a circuit of $N$ qubits and $M$  couplers, each with a truncation of $q$ and $c$ respectively. Using this approximate method, the cost of finding Pauli coefficients of single qubits if $Nq$ (each qubit Hamiltonian is diagonalized separately) which is linear in the number of qubits, and the cost of performing the full SW between pairs is $M(q^2c)$ (assuming each coupler interacts with two qubits) which is also linear in the number of couplers. This method is called pairwise-SW. It gives acceptable accuracy for the schedules while scaling linearly with the number of qubits and couplers in contrast to the exponential scaling of the full-SW. Instead of using the pairwise-SW method to calculate the coupling strength, one can use the Born-Oppenheimer method that uses a different approximation that scales linearly with the number of qubits and couplers as well but is slower by a prefactor. \n",
    "\n",
    "As this Pairwise-SW assumes local interactions such that by construction the effect of next nearest neighbor is neglected, therefore it cannot be applied to systems with long-range or multi-body interactions.\n",
    "\n",
    "**Remark: take into account this last part when designing the circuit layout**\n",
    "\n",
    "**Optional Question(Research-level): Can you perform some of the quantitative analysis of pairwise-SW approximation errors and their trend with system size, connectivity, type of schedule, and interaction size?**\n",
    "\n",
    "Nein\n",
    "\n",
    "Now that we know the theory it is time to do some coding. \n",
    "\n"
   ]
  },
  {
   "attachments": {},
   "cell_type": "markdown",
   "metadata": {},
   "source": [
    "First we need to import the libraries."
   ]
  },
  {
   "cell_type": "code",
   "execution_count": 56,
   "metadata": {},
   "outputs": [],
   "source": [
    "import numpy as np\n",
    "import scipy as sc\n",
    "import matplotlib.pyplot as plt\n",
    "import cas as cas\n",
    "import importlib\n",
    "import pickle\n",
    "import inspect"
   ]
  },
  {
   "attachments": {},
   "cell_type": "markdown",
   "metadata": {},
   "source": [
    "Then we create the qubit and the coupler object."
   ]
  },
  {
   "cell_type": "code",
   "execution_count": 3,
   "metadata": {},
   "outputs": [
    {
     "name": "stderr",
     "output_type": "stream",
     "text": [
      "c:\\Users\\djami\\AppData\\Local\\Programs\\Python\\Python310\\lib\\site-packages\\scipy\\sparse\\linalg\\_dsolve\\linsolve.py:394: SparseEfficiencyWarning: splu converted its input to CSC format\n",
      "  warn('splu converted its input to CSC format', SparseEfficiencyWarning)\n"
     ]
    }
   ],
   "source": [
    "# qubit\n",
    "i_c = 230; c_shunt = 50; c_z = 4.4; lq = 480; alpha = 0.4; d = 0.0\n",
    "\n",
    "'''\n",
    "Arguments\n",
    "---------\n",
    "i_c : float. junction critical current, in nA\n",
    "c_shunt : float. shunt capacitance, in fF\n",
    "c_z : float. z-loop junction capacitance, in fF\n",
    "l : float. inductance, in pH\n",
    "alpha : float. ratio of the average current in x-loop junctions to the current in z-loop junction. alpha*Iz = (Ix1 + Ix2)/2. alpha < 1\n",
    "d : float. x-loop junction asymmetry. d = (Ix1 - Ix2)/(Ix1 + Ix2)\n",
    "'''\n",
    "\n",
    "qubit = cas.CSFQ(i_c, c_shunt, c_z, lq, alpha, d)\n",
    "\n",
    "# coupler\n",
    "i_sigma = 565; c_sigma = 11; lc = 580; d = 0.0\n",
    "\n",
    "'''\n",
    "Arguments\n",
    "---------\n",
    "i_sigma : float\n",
    "sum of the two junction critical currents (I_x1 + I_x2), in nA\n",
    "c_sigma : float\n",
    "sum of the two junction capacitances (C_x1 + C_x2), in fF\n",
    "l : float\n",
    "Total inductance of the coupler loop, in pH\n",
    "d : float\n",
    "x-loop junction asymmetry. d = (I_x1 - I_x2)/(I_x1 + I_x2).\n",
    "homax_0: int\n",
    "maximum number of harmonic oscillator basis for mode 0.\n",
    "default: 50\n",
    "'''\n",
    "\n",
    "coupler = cas.Coupler(i_sigma, c_sigma, lc, d)"
   ]
  },
  {
   "attachments": {},
   "cell_type": "markdown",
   "metadata": {},
   "source": [
    "Now, we investigate all of the methods that the qubit object has:"
   ]
  },
  {
   "cell_type": "code",
   "execution_count": 4,
   "metadata": {},
   "outputs": [
    {
     "data": {
      "text/plain": [
       "['__init__',\n",
       " '_c',\n",
       " '_residuals',\n",
       " 'evolve_se',\n",
       " 'get_fluxes',\n",
       " 'get_h',\n",
       " 'get_ip',\n",
       " 'get_ising',\n",
       " 'get_low_e',\n",
       " 'get_pauli',\n",
       " 'get_pauli_low_e',\n",
       " 'get_povm',\n",
       " 're_init']"
      ]
     },
     "execution_count": 4,
     "metadata": {},
     "output_type": "execute_result"
    }
   ],
   "source": [
    "method_names = [attr for attr in dir(qubit) if inspect.ismethod(getattr(qubit,attr))]\n",
    "method_names"
   ]
  },
  {
   "attachments": {},
   "cell_type": "markdown",
   "metadata": {},
   "source": [
    "We can take a look at the docstrings to learn how to use that specific method"
   ]
  },
  {
   "cell_type": "code",
   "execution_count": 6,
   "metadata": {},
   "outputs": [
    {
     "name": "stdout",
     "output_type": "stream",
     "text": [
      "Calculates the Ising coefficients for single qubit.\n",
      "        See arXiv:1912.00464 for more details.\n",
      "\n",
      "        Arguments\n",
      "        ---------\n",
      "        phi_x : float\n",
      "            x (barrier) bias phase (not flux)\n",
      "            Should be in the range -2pi <= phi_x <= 2pi\n",
      "        phi_z : float\n",
      "            z (tilt) bias phase (not flux)\n",
      "            Should be in the range 0 <= phi_z <= 2pi\n",
      "\n",
      "        Returns\n",
      "        -------\n",
      "        ising : array\n",
      "            sigma_x and sigma_z coefficients\n",
      "            dim=(1, 2)\n",
      "        basis : ndarray\n",
      "            computational basis, which is a linear combination of first two\n",
      "            eigenstates. First column is |0>, second column is |1>\n",
      "            dim=(2, nmax)\n",
      "        \n"
     ]
    }
   ],
   "source": [
    "print(qubit.get_ising.__doc__)"
   ]
  },
  {
   "attachments": {},
   "cell_type": "markdown",
   "metadata": {},
   "source": [
    "We can obtain the Ising coefficients of a single qubit for given circuit biases:"
   ]
  },
  {
   "cell_type": "code",
   "execution_count": 20,
   "metadata": {},
   "outputs": [
    {
     "name": "stdout",
     "output_type": "stream",
     "text": [
      "Ising coefficients: \n",
      " [1.26307414 0.52212011]\n",
      "Resultierender Hamiltonian: \n",
      " [[ 0.52212011+0.j  1.26307414+0.j]\n",
      " [ 1.26307414+0.j -0.52212011+0.j]]\n"
     ]
    }
   ],
   "source": [
    "ising, basis = qubit.get_ising(phi_x=0.72*2*np.pi, phi_z=0.003*2*np.pi)\n",
    "# phi_x: barrier flux, much higher than phi_z: double well bias (such that two lowest eigenstates in diff. parts of the well)\n",
    "ising_mod = ising/2/np.pi\n",
    "\n",
    "print(\"Ising coefficients: \\n\", ising_mod)\n",
    "\n",
    "from qibo.symbols import Z, X\n",
    "\n",
    "print(\"Resultierender Hamiltonian: \\n\", ising_mod[0] * X(0).matrix + ising_mod[1]*Z(0).matrix)"
   ]
  },
  {
   "attachments": {},
   "cell_type": "markdown",
   "metadata": {},
   "source": [
    "We can obtain the Hamiltonian for the coupler element."
   ]
  },
  {
   "cell_type": "code",
   "execution_count": 14,
   "metadata": {},
   "outputs": [
    {
     "name": "stdout",
     "output_type": "stream",
     "text": [
      "Builds the coupler Hamiltonian.\n",
      "\n",
      "        Arguments\n",
      "        ---------\n",
      "        phi_x : float\n",
      "            x (barrier) bias phase (not flux)\n",
      "        phi_z : float\n",
      "            z (tilt) bias phase (not flux)\n",
      "\n",
      "        Returns\n",
      "        -------\n",
      "        ham : ndarray\n",
      "            circuit Hamiltonian\n",
      "            dim=(nmax, nmax)\n",
      "        \n"
     ]
    }
   ],
   "source": [
    "print(coupler.get_h.__doc__)"
   ]
  },
  {
   "cell_type": "code",
   "execution_count": 21,
   "metadata": {},
   "outputs": [
    {
     "data": {
      "text/plain": [
       "array([[-1.34893620e+03+0.00000000e+00j,  5.52329704e-14+0.00000000e+00j,\n",
       "         1.06627368e+02+4.39568104e-30j, ...,\n",
       "        -1.44220984e-65+1.74445998e-59j, -5.88185465e-51-3.69803900e-75j,\n",
       "         3.73429527e-68-1.88757534e-61j],\n",
       "       [ 5.52329704e-14+0.00000000e+00j, -8.02238540e+02+0.00000000e+00j,\n",
       "         7.37452967e-14-7.91855499e-14j, ...,\n",
       "         1.62797609e-47+5.50094767e-72j, -9.96578278e-65+6.02599653e-57j,\n",
       "        -4.11729822e-50-2.97821073e-74j],\n",
       "       [ 1.06627368e+02-4.39568104e-30j,  7.37452967e-14+7.91855499e-14j,\n",
       "        -2.63969295e+02+0.00000000e+00j, ...,\n",
       "         1.92385664e-61-6.65502465e-55j,  7.95545781e-47+2.82360782e-71j,\n",
       "        -4.93307487e-64+4.24789626e-57j],\n",
       "       ...,\n",
       "       [-1.44220984e-65-1.74445998e-59j,  1.62797609e-47-5.50094767e-72j,\n",
       "         1.92385664e-61+6.65502465e-55j, ...,\n",
       "         1.88835210e+04+0.00000000e+00j, -8.48629494e-14-1.58371100e-13j,\n",
       "         7.65343151e+02+0.00000000e+00j],\n",
       "       [-5.88185465e-51+3.69803900e-75j, -9.96578278e-65-6.02599653e-57j,\n",
       "         7.95545781e-47-2.82360782e-71j, ...,\n",
       "        -8.48629494e-14+1.58371100e-13j,  1.99366923e+04+0.00000000e+00j,\n",
       "         2.36123098e-14+0.00000000e+00j],\n",
       "       [ 3.73429527e-68+1.88757534e-61j, -4.11729822e-50+2.97821073e-74j,\n",
       "        -4.93307487e-64-4.24789626e-57j, ...,\n",
       "         7.65343151e+02+0.00000000e+00j,  2.36123098e-14+0.00000000e+00j,\n",
       "         1.95751028e+04+0.00000000e+00j]])"
      ]
     },
     "execution_count": 21,
     "metadata": {},
     "output_type": "execute_result"
    }
   ],
   "source": [
    "coupler.get_h(phi_x=0.8*2*np.pi, phi_z=0.5*2*np.pi)\n",
    "# heavily favors tunneling in one direction: double well tilted in one direction"
   ]
  },
  {
   "attachments": {},
   "cell_type": "markdown",
   "metadata": {},
   "source": [
    "Now, we create the circuit object for a chain of three qubit that are coupled via two tunable couplers."
   ]
  },
  {
   "cell_type": "code",
   "execution_count": 24,
   "metadata": {},
   "outputs": [],
   "source": [
    "i_c = 230; c_shunt = 50; c_z = 4.4; lq = 480; alpha = 0.4; d = 0.0\n",
    "qubit0 = cas.CSFQ(i_c, c_shunt, c_z, lq, alpha, d)\n",
    "qubit1 = cas.CSFQ(i_c, c_shunt, c_z, lq, alpha, d)\n",
    "qubit2 = cas.CSFQ(i_c, c_shunt, c_z, lq, alpha, d)\n",
    "\n",
    "i_sigma = 565; c_sigma = 11; lc = 580; d = 0.0\n",
    "coupler01 = cas.Coupler(i_sigma, c_sigma, lc, d)\n",
    "coupler12 = cas.Coupler(i_sigma, c_sigma, lc, d)"
   ]
  },
  {
   "attachments": {},
   "cell_type": "markdown",
   "metadata": {},
   "source": [
    "this means that all of the couplers and qubits, respectively, are of the same form/ specifications"
   ]
  },
  {
   "attachments": {},
   "cell_type": "markdown",
   "metadata": {},
   "source": [
    "We put the circuit objects, in a list `elements` that holds  them to assign indexes. "
   ]
  },
  {
   "cell_type": "code",
   "execution_count": 32,
   "metadata": {},
   "outputs": [
    {
     "name": "stdout",
     "output_type": "stream",
     "text": [
      "<cas.elements.Coupler object at 0x0000014751CEBD60>\n"
     ]
    }
   ],
   "source": [
    "elements = [qubit0, coupler01, qubit1, coupler12, qubit2]\n",
    "# list of pointers\n",
    "print(elements[3])\n",
    "\n",
    "# print(elements[0].get_ising(phi_x=0.72*2*np.pi, phi_z=0.003*2*np.pi)[0])\n",
    "# print(elements[1].get_h(phi_x=0.8*2*np.pi, phi_z=0.5*2*np.pi))"
   ]
  },
  {
   "attachments": {},
   "cell_type": "markdown",
   "metadata": {},
   "source": [
    "After the list of elements, we have to set the mutuals between them to construct the mutual matrix `m_mat` between them. For that, if `elements[i]` and `elements[j]` circuit elements are coupled via a mutual inductance of `m`, then for the mutual matrix we should have `m_mat[i, j] = m_mat[j, i] = -m`. Note that the size of (both of axis of the) mutual matrix is the same as the size of the `elements`. For a chain configuration we have:"
   ]
  },
  {
   "cell_type": "code",
   "execution_count": 33,
   "metadata": {},
   "outputs": [],
   "source": [
    "m = 65; m_mat = np.zeros((5,5));\n",
    "\n",
    "m_mat[0, 1] = m; m_mat[1, 2] = m;\n",
    "m_mat[2, 3] = -m; m_mat[3, 4] = m;\n",
    "\n",
    "m_mat = -(m_mat + m_mat.T) # clever!"
   ]
  },
  {
   "attachments": {},
   "cell_type": "markdown",
   "metadata": {},
   "source": [
    "The last part is to choose a truncation size for the circuit elements. This assigns a truncation size to each object in the elements, which means how many low-energy eigenstates and eigenvalues of the system to keep when calculating the joint Hamiltonian of the system (or subsystems). Here a smaller truncation for couplers compared to qubits is used, because couplers have higher frequencies."
   ]
  },
  {
   "cell_type": "code",
   "execution_count": 34,
   "metadata": {},
   "outputs": [],
   "source": [
    "trunc_vec = np.array([6, 3, 6, 3, 6])\n",
    "# see below for explanation"
   ]
  },
  {
   "attachments": {},
   "cell_type": "markdown",
   "metadata": {},
   "source": [
    "We can now create our circuit object which we'll use for all the calculations."
   ]
  },
  {
   "cell_type": "code",
   "execution_count": 35,
   "metadata": {},
   "outputs": [
    {
     "name": "stderr",
     "output_type": "stream",
     "text": [
      "c:\\Users\\djami\\AppData\\Local\\Programs\\Python\\Python310\\lib\\site-packages\\scipy\\sparse\\linalg\\_dsolve\\linsolve.py:394: SparseEfficiencyWarning: splu converted its input to CSC format\n",
      "  warn('splu converted its input to CSC format', SparseEfficiencyWarning)\n"
     ]
    },
    {
     "data": {
      "text/plain": [
       "'Arguments\\n        ---------\\n        elements : list\\n            an ordered list of circuit objects\\n        mutual_mat : ndarray\\n            the mutual matrix that describes how the circuit elements in\\n            \"elements\" are coupled. The matrix indices correspond to the\\n            objects in the \"elements\".\\n            If elements i and j are coupled to each other via mutual inductance\\n            of M, then we should have mutual_mat[i,j] = mutual_mat[j,i] = -M\\n            dim=(len(elements), len(elements))\\n        trunc_vec : ndarray\\n            low-energy truncation for circuit elements: how many low energy\\n            eigenvalues to keep for each object in \"elements\"\\n            values must be >= 2\\n            dim=len(elements)'"
      ]
     },
     "execution_count": 35,
     "metadata": {},
     "output_type": "execute_result"
    }
   ],
   "source": [
    "circuit = cas.AnnealingCircuit(elements, m_mat, trunc_vec)\n",
    "'''Arguments\n",
    "        ---------\n",
    "        elements : list\n",
    "            an ordered list of circuit objects\n",
    "        mutual_mat : ndarray\n",
    "            the mutual matrix that describes how the circuit elements in\n",
    "            \"elements\" are coupled. The matrix indices correspond to the\n",
    "            objects in the \"elements\".\n",
    "            If elements i and j are coupled to each other via mutual inductance\n",
    "            of M, then we should have mutual_mat[i,j] = mutual_mat[j,i] = -M\n",
    "            dim=(len(elements), len(elements))\n",
    "        trunc_vec : ndarray\n",
    "            low-energy truncation for circuit elements: how many low energy\n",
    "            eigenvalues to keep for each object in \"elements\"\n",
    "            values must be >= 2\n",
    "            dim=len(elements)\n",
    "'''"
   ]
  },
  {
   "attachments": {},
   "cell_type": "markdown",
   "metadata": {},
   "source": [
    "To obtain the schedules using the circuit biases, we have to construct a dictionary of the circuit fluxes. This dictionary will have a key named `points` which simply is the number of points used for the flux schedules. For circuit element i(`elements[i]`), the x and z biases should have keys `phix_i` and `phiz_i` respectively. This keys are assigned to an array of flux points. The input for circuit biases are phase, i.e. $\\varphi = \\frac{\\Psi}{\\Psi_0}2 \\pi$ wehre $\\varphi$ is the phase and $\\Psi$ is the magnetic flux.\n"
   ]
  },
  {
   "attachments": {},
   "cell_type": "markdown",
   "metadata": {},
   "source": [
    "Q: How to choose phases over annealing????\n",
    "\n",
    "Sensible to change other params as well, e.g. physical implementations of qubits/ couplers?"
   ]
  },
  {
   "cell_type": "code",
   "execution_count": 49,
   "metadata": {},
   "outputs": [],
   "source": [
    "phi_dict = {}; pts = 20;\n",
    "s = np.linspace(0, 2, pts)\n",
    "phi_dict[\"points\"] = pts\n",
    "\n",
    "phi_dict[\"phix_0\"] = np.linspace(0.73, 1, pts)*2*np.pi\n",
    "phi_dict[\"phix_1\"] = np.linspace(0.5, 1, pts)*2*np.pi\n",
    "phi_dict[\"phix_2\"] = np.linspace(0.73, 0.85, pts)*2*np.pi\n",
    "phi_dict[\"phix_3\"] = np.linspace(0.5, 0.85, pts)*2*np.pi\n",
    "phi_dict[\"phix_4\"] = np.linspace(0.75, 1, pts)*2*np.pi\n",
    "\n",
    "phi_dict[\"phiz_0\"] = np.linspace(0.0, 0.002, pts)*2*np.pi\n",
    "phi_dict[\"phiz_1\"] = np.linspace(0, 0, pts)*2*np.pi\n",
    "phi_dict[\"phiz_2\"] = np.linspace(0, 0.001, pts)*2*np.pi\n",
    "phi_dict[\"phiz_3\"] = np.linspace(0, 0, pts)*2*np.pi\n",
    "phi_dict[\"phiz_4\"] = np.linspace(0, 0.002, pts)*2*np.pi\n",
    "\n",
    "# array of flux points corresponds to values that are taken on during annealing"
   ]
  },
  {
   "attachments": {},
   "cell_type": "markdown",
   "metadata": {},
   "source": [
    "Now we obtain the Ising coefficients via pair-wise Schrieffer-Wolff"
   ]
  },
  {
   "cell_type": "code",
   "execution_count": 50,
   "metadata": {},
   "outputs": [
    {
     "name": "stdout",
     "output_type": "stream",
     "text": [
      "calculating qubit isings for qubit 1 of 3\n",
      "calculating qubit isings for qubit 2 of 3\n",
      "calculating qubit isings for qubit 3 of 3\n",
      "calculating coupling strength for coupler 1 of 2\n",
      "calculating coupling strength for coupler 2 of 2\n",
      "schedule point 20 / 20\u001b[1K\r"
     ]
    }
   ],
   "source": [
    "ising_pwsw_dict = circuit.get_ising_pwsw(phi_dict, verbose = True)"
   ]
  },
  {
   "attachments": {},
   "cell_type": "markdown",
   "metadata": {},
   "source": [
    "The output of both methods is a dictionary that included the calculated Ising coefficients using these methods. The key `points` simply includes an integer showing the number of points in the schedule. Qubits are indexed from $0$ to $N$, and the single qubit Isint terms of them are saved as arrays with the keys \"x_i\" and \"z_i\" where `ì` is the index of the qubit. The interaction terms between qubits `i` and `j` are saved  in the keys `\"zz_i,j\"` where always `i<j`. The Ising coefficients will be angular frequencies in units of GHz, meaning $\\omega = 2 \\pi f$."
   ]
  },
  {
   "cell_type": "code",
   "execution_count": 51,
   "metadata": {},
   "outputs": [
    {
     "name": "stdout",
     "output_type": "stream",
     "text": [
      "dict_keys(['x_0', 'z_0', 'x_1', 'z_1', 'x_2', 'z_2', 'zz_0,1', 'zz_1,2', 'points'])\n",
      "\n",
      " example single qubit ising terms:\n",
      " [6.12281015e+00 4.08392197e+00 2.51297159e+00 1.45281237e+00\n",
      " 8.12684374e-01 4.51955375e-01 2.54683780e-01 1.47200519e-01\n",
      " 8.79410084e-02 5.45911833e-02 3.53470323e-02 2.39418514e-02\n",
      " 1.70030631e-02 1.26805762e-02 9.93719740e-03 8.17873503e-03\n",
      " 7.05869952e-03 6.37379302e-03 6.00756998e-03 5.90053578e-03]\n",
      "\n",
      "example interaction term:\n",
      " [-3.65542168e-04 -4.21388489e-02 -1.09248717e-01 -2.07778504e-01\n",
      " -3.42525190e-01 -5.18742108e-01 -7.43044695e-01 -1.02342182e+00\n",
      " -1.36905442e+00 -1.78989603e+00 -2.29563125e+00 -2.89358968e+00\n",
      " -3.58527881e+00 -4.36155150e+00 -5.19724112e+00 -6.04729911e+00\n",
      " -6.84734908e+00 -7.52096291e+00 -7.99335590e+00 -8.20782112e+00]\n"
     ]
    }
   ],
   "source": [
    "print(ising_pwsw_dict.keys())\n",
    "print(\"\\n example single qubit ising terms:\\n\", ising_pwsw_dict['x_0'])\n",
    "print(\"\\nexample interaction term:\\n\", ising_pwsw_dict['zz_0,1'])\n",
    "# print(ising_pwsw_dict)"
   ]
  },
  {
   "attachments": {},
   "cell_type": "markdown",
   "metadata": {},
   "source": [
    "Below we show the results for the Ising coefficients calculate via these two methods, where the solid lines are calculated using full SW, while dashed lines are calculated using the pair-wise SW method."
   ]
  },
  {
   "cell_type": "code",
   "execution_count": 52,
   "metadata": {},
   "outputs": [
    {
     "data": {
      "image/png": "[encoded data removed]",
      "text/plain": [
       "<Figure size 720x864 with 5 Axes>"
      ]
     },
     "metadata": {
      "needs_background": "light"
     },
     "output_type": "display_data"
    }
   ],
   "source": [
    "plt.clf();\n",
    "fig = plt.figure(num=1);\n",
    "fig.set_size_inches((10, 12))\n",
    "\n",
    "for i in range(3):\n",
    "    ax1 = plt.subplot(3, 2, i+1)\n",
    "    \n",
    "#    plt.plot(s, ising_sw_dict[\"x_\"+str(i)]/2/np.pi, label=r\"$X_{0:d}$\".format(i), color=\"C0\")\n",
    "#    plt.plot(s, ising_sw_dict[\"z_\"+str(i)]/2/np.pi, label=r\"$Z_{0:d}$\".format(i), color=\"C1\")\n",
    "    \n",
    "    plt.plot(s, ising_pwsw_dict[\"x_\"+str(i)]/2/np.pi, color=\"C0\", label=r\"$X_{0:d}$\".format(i), ls='--', lw=2.5 )\n",
    "    plt.plot(s, ising_pwsw_dict[\"z_\"+str(i)]/2/np.pi, color=\"C1\", label=r\"$Z_{0:d}$\".format(i), ls='--', lw=2.5 )\n",
    "    \n",
    "    plt.xlabel(r\"$s=t/t_a$\"); plt.ylabel(r\"Ising coefficients (GHZ)\")\n",
    "    plt.legend()\n",
    "    \n",
    "labels = [[0, 1], [1, 2]]\n",
    "for i in range(2):\n",
    "    ax2 = plt.subplot(3, 2, i+5)\n",
    "    \n",
    "#    plt.plot(s, ising_sw_dict[\"zz_\"+str(labels[i][0])+','+str(labels[i][1])]/2/np.pi, \n",
    "#             label=r\"$Z_{0:d}Z_{1:d}$\".format(labels[i][0], labels[i][1]))\n",
    "    \n",
    "    plt.plot(s, ising_pwsw_dict[\"zz_\"+str(labels[i][0])+','+str(labels[i][1])]/2/np.pi, color=\"C0\", ls='--', lw=2.5,label=r\"$Z_{0:d}Z_{1:d}$\".format(labels[i][0], labels[i][1]) )\n",
    "    \n",
    "    plt.xlabel(r\"$s=t/t_a$\"); plt.ylabel(r\"Ising coefficients (GHZ)\")\n",
    "    plt.legend()\n",
    "    \n",
    "plt.tight_layout()\n",
    "plt.show()"
   ]
  },
  {
   "attachments": {},
   "cell_type": "markdown",
   "metadata": {},
   "source": [
    "## Finding Circuit fluxes for Custom Pauli Schedules\n",
    "\n",
    "We discuss how to find appropriate circuit biases that yield a desired Ising schedule. The circuit for each qubit and tunable coupler has two flux biases: $\\varphi_{x,k}$ and $\\varphi_{z,k}$, that thread their small ($x$) and large ($z$) loops respectively. Here the $x$ and $z$ notation is unrelated to the Pauli operator indices, and to distinguish the two we use a subscript for the loop index and a superscript for the Pauil operator index. The subscript $k$ indexes circuit elements, both the qubits and the couplers. Given a desired Pauli schedule, we wish to find appropriate circuit fluxes that yield that schedule, and we state the problem as \n",
    "\n",
    "$$\n",
    "\\{h_k^x, h^z_k, J_{kl}\\} \\to \\{\\varphi_{x,k}, \\varphi_{z, k}\\}.\n",
    "$$\n",
    "\n",
    "Here we only consider $\\sigma^z \\otimes \\sigma^z$ couplings, since the typical design of quantum annealing circuits based on flux qubits can only yield strong interactions of this form and other types such as $\\sigma^x \\otimes \\sigma^x$ will be mostly negligible. Nevertheless, the methods we describe here are applicable, with mirror adjustments, to more recent flux qubit variants and coupling circuits that can implement other types of interactions such as $\\sigma^x \\otimes \\sigma^x$. \n",
    "\n",
    "To find the circuit fluxes we use **numerical optimization**. For a given set of circuit biases, we can use the previously described method to find the corresponding Pauli coefficients for those biases. Therefore we can easily compare the resulting Pauli coefficients with the ones of our target custom schedule, and if differences are detected we can tune the biases iteratively until we achieve our desired schedule. In this way the biases are tuned by an optimization algorithm. \n",
    "\n",
    "For any given set of circuit biases we construct a convex cost function that calculates the difference between our desired Pauli coefficients and the ones that are calculated for those circuit biases as \n",
    "\n",
    "$$\n",
    "\\mathcal{C}(\\{\\varphi_{x,k}, \\varphi_{z,k}\\}) = \\sum_{i} (S_i - \\tilde{S}_i)^2,\n",
    "$$\n",
    "\n",
    "where $\\{\\varphi_{x,k}, \\varphi_{z,k}\\}$ indicates the set of all circuit biases, the summation is over all the qubits and all the different coefficients $S_i \\in \\{h_k^x, h_k^z, J_{kl}\\}$, and $\\tilde{S}_i$ is a similar notation for our desired Pauli coefficients, for which we wish to find appropriate circuit biases. This cost function is then minimized in an optimization routine to find the desired circuit biases. Note that although we construct a convex cost function, the optimization problem is not convex in general. \n",
    "\n",
    "To solve this optimization problem we apply a few constrains on the physics of the circuit which allow us to narrow the search region. There are three main physical constraints that we can impose in order to simplify the optimization task. The first is to note that the potential of the flux qubits and couplers is periodic with respect to circuit biases, and one needs to choose an *annealing cell* that fixes the bias ranges such that they belong to a chosen periodicity. The second is that the $z$- bias of qubit circuits cannot be tuned beyond a certain value; doing so will break the qubit definition for these circuits. Therefore one needs to place hard constraints on the qubit $z$-biases, which significantly narrows the search region. The third is that the coupler z-biases should all remain fixed at the coupler degeneracy point and do not need to be optimized. Tuning the coupler z-bias away from its degeneracy throws magnetic flux onto its neighboring qubits, which complicates the experimental control of the circuit. It amounts to introducing a correlation between the qubits’ and the couplers’ z-biases (this also makes numerical optimization more challenging). Additionally, keeping the couplers at their degeneracy point improves their coherence (by making them first-order insensitive to frequency fluctuations) and therefore improves the performance of the multi-qubit system, and will not adversely affect the achievable interaction strength between the qubits.\n",
    "\n",
    "There is a large variety of optimization algorithms and numerical packages that can be utilized for this problem depending on preference and performance. However, the computational cost of the optimization problem scales exponentially with the number of flux qubits and couplers due to use of the SW method for cost function calculations. Additionally, the cost function must be calculated multiple times for the optimization algorithm to converge to a minimum, which further increases the computational cost, making this method viable only for small circuits.  \n",
    "\n",
    "Considering the unfavorable computational scaling of the method and motivated by the pairwise SW method here an approximate method for finding circuit fluxes that yields the desired Pauli schedules is provided [1]. First, we use a numerical approach similar to the previous one to find the circuit biases for isolated but loaded qubits. With the qubit biases in hand, we then turn on the couplers and calculate the coupling strengths using the pairwise-SW method until we reach our desired coupling strength, for which we save the coupler bias that yielded the desired strength.\n",
    "\n",
    "Formally, for each isolated but loaded qubit circuit we construct a convex cost function that calculates the difference between the desired single qubit Pauli coefficients and the ones that are calculated the SW transformation as\n",
    "\n",
    "$$\n",
    "\\mathcal{C}_q (\\varphi_{x,k}, \\varphi_{z,k}) = (h_{k}^x - \\tilde{h}_k^x)^2 + (h_k^z-\\tilde{h}_{k}^z)^2,\n",
    "$$\n",
    "\n",
    "where $\\varphi_{x,k}$  and $\\varphi_{z,k}$ are circuit biases for the $k^{th}$ qubit only, $h_k^x$ and $h_z^z$ are the corresponding single qubit Pauli coefficients, and $\\tilde{h}_k^x$ and $\\tilde{h}_k^z$ are the desired single qubit Pauli coefficients. We use numerical optimization methods to find the circuit biases for all the qubits. \n",
    "\n",
    "Next, we consider each coupler circuit and the two qubits that it couples as a joint system similar to the pairwise-SW method, and we fix the qubit biases to the ones that we found earlier using the numerical optimization method. Keeping the coupler’s $z$- bias at its degeneracy, we then turn on the coupler’s $x$-bias we calculate the $\\sigma^z \\otimes \\sigma^z$ interaction between the qubits (essentially creating a lookup table) and continue until we reach our desired interaction strength for that pair of qubits, for which we save the corresponding coupler $\\varphi_x$. Repeating this procedure for all the couplers, we can find all the coupler circuit $x$-biases that yield our desired two-qubit Pauli coefficients, while all the coupler $z$-biases are kept at degeneracy. \n",
    "\n",
    "The pairwise method gives approximate yet sufficiently accurate results, while scaling only linearly with the system size in comparison to the exponential scaling of the full-SW method. Now, we are ready to code."
   ]
  },
  {
   "cell_type": "code",
   "execution_count": 53,
   "metadata": {},
   "outputs": [],
   "source": [
    "ising_dict = {}; pts = 10;\n",
    "s = np.linspace(0, 1, pts)\n",
    "ising_dict[\"points\"] = pts\n",
    "\n",
    "ising_dict[\"x_0\"] = np.linspace(1, 0, pts)*2*np.pi\n",
    "ising_dict[\"x_1\"] = np.linspace(0.8, 0, pts)*2*np.pi\n",
    "ising_dict[\"x_2\"] = np.linspace(0.7, 0.05, pts)*2*np.pi\n",
    "\n",
    "ising_dict[\"z_0\"] = np.linspace(0.0, 1, pts)*2*np.pi\n",
    "ising_dict[\"z_1\"] = np.linspace(0, 0.8, pts)*2*np.pi\n",
    "ising_dict[\"z_2\"] = np.linspace(0, 0.9, pts)*2*np.pi\n",
    "\n",
    "ising_dict[\"zz_0,1\"] = -np.linspace(0.0, 0.9, pts)*2*np.pi\n",
    "ising_dict[\"zz_1,2\"] = np.linspace(0.0, 0.8, pts)*2*np.pi"
   ]
  },
  {
   "attachments": {},
   "cell_type": "markdown",
   "metadata": {},
   "source": [
    "After which we compute the fluxes via numerical optimization using pair-wise SW."
   ]
  },
  {
   "cell_type": "code",
   "execution_count": 54,
   "metadata": {},
   "outputs": [
    {
     "name": "stdout",
     "output_type": "stream",
     "text": [
      "calculating qubit biases for qubit 1 of 3\n",
      "point #9 single qubit residuals: \n",
      " [-9.41061442e-02  6.82576224e-05] \n",
      "\n",
      "calculating qubit biases for qubit 2 of 3\n",
      "schedule point 1 / 10\u001b[1K\r"
     ]
    },
    {
     "name": "stderr",
     "output_type": "stream",
     "text": [
      "c:\\Users\\djami\\AppData\\Local\\Programs\\Python\\Python310\\lib\\site-packages\\cas\\elements.py:617: UserWarning: For the point #9, solver found solutions that are not optimal. The relative error is 1.50 % for single qubit residuals\n",
      "  warnings.warn(\n"
     ]
    },
    {
     "name": "stdout",
     "output_type": "stream",
     "text": [
      "point #9 single qubit residuals: \n",
      " [-9.31598055e-02  5.29194745e-05] \n",
      "\n",
      "calculating qubit biases for qubit 3 of 3\n",
      "schedule point 1 / 10\u001b[1K\r"
     ]
    },
    {
     "name": "stderr",
     "output_type": "stream",
     "text": [
      "c:\\Users\\djami\\AppData\\Local\\Programs\\Python\\Python310\\lib\\site-packages\\cas\\elements.py:617: UserWarning: For the point #9, solver found solutions that are not optimal. The relative error is 1.85 % for single qubit residuals\n",
      "  warnings.warn(\n"
     ]
    },
    {
     "name": "stdout",
     "output_type": "stream",
     "text": [
      "schedule point 10 / 10\u001b[1K\n",
      " calculating coupler bias for coupler 1 of 2\n",
      "schedule point 10 / 10\u001b[1K\n",
      " calculating coupler bias for coupler 2 of 2\n",
      "schedule point 10 / 10\u001b[1K\r"
     ]
    }
   ],
   "source": [
    "custom_flux_dict_pwsw = circuit.get_custom_fluxes_pwsw(ising_dict, verbose=True, optimizer_method=\"leastsq\")"
   ]
  },
  {
   "cell_type": "code",
   "execution_count": 55,
   "metadata": {},
   "outputs": [
    {
     "data": {
      "image/png": "[encoded data removed]",
      "text/plain": [
       "<Figure size 720x504 with 4 Axes>"
      ]
     },
     "metadata": {
      "needs_background": "light"
     },
     "output_type": "display_data"
    }
   ],
   "source": [
    "plt.clf();\n",
    "fig = plt.figure(num=1);\n",
    "fig.set_size_inches((10, 7))\n",
    "\n",
    "ax1 = plt.subplot(2, 2, 1)\n",
    "for i, qubit_index in enumerate(circuit.qubit_indices):\n",
    "    \n",
    " #   plt.plot(s, custom_flux_dict_num[\"phix_\"+str(qubit_index)]/2/np.pi, label=r\"qubit$_{0:d}$\".format(i))\n",
    "    plt.plot(s, custom_flux_dict_pwsw[\"phix_\"+str(qubit_index)]/2/np.pi, '--', color=\"C{0:d}\".format(i), lw=2.5, label=r\"qubit$_{0:d}$\".format(i),)\n",
    "    \n",
    "    plt.xlabel(r\"$s=t/t_a$\"); plt.ylabel(r\"$\\varphi_x/2\\pi$\")\n",
    "    plt.legend()\n",
    "\n",
    "ax2 = plt.subplot(2, 2, 2)\n",
    "for i, qubit_index in enumerate(circuit.qubit_indices):\n",
    "    \n",
    " #   plt.plot(s, custom_flux_dict_num[\"phiz_\"+str(qubit_index)]/2/np.pi, label=r\"qubit$_{0:d}$\".format(i))\n",
    "    plt.plot(s, custom_flux_dict_pwsw[\"phiz_\"+str(qubit_index)]/2/np.pi, '--', color=\"C{0:d}\".format(i), lw=2.5, label=r\"qubit$_{0:d}$\".format(i))\n",
    "    \n",
    "    plt.xlabel(r\"$s=t/t_a$\"); plt.ylabel(r\"$\\varphi_z/2\\pi$\")\n",
    "    plt.legend()\n",
    "    \n",
    "ax3 = plt.subplot(2, 2, 3)\n",
    "# plt.hlines(1, 0, 1, alpha=0.3)\n",
    "for i, coupler_index in enumerate(circuit.coupler_indices):\n",
    "    \n",
    " #   plt.plot(s, custom_flux_dict_num[\"phix_\"+str(coupler_index)]/2/np.pi, label=r\"coupler$_{0:d}$\".format(i))\n",
    "    plt.plot(s, custom_flux_dict_pwsw[\"phix_\"+str(coupler_index)]/2/np.pi, '--', color=\"C{0:d}\".format(i), lw=2.5, label=r\"coupler$_{0:d}$\".format(i))\n",
    "    \n",
    "    plt.xlabel(r\"$s=t/t_a$\"); plt.ylabel(r\"$\\varphi_x/2\\pi$\")\n",
    "    plt.legend()\n",
    "    \n",
    "ax4 = plt.subplot(2, 2, 4)\n",
    "for i, coupler_index in enumerate(circuit.coupler_indices):\n",
    "    \n",
    " #   plt.plot(s, custom_flux_dict_num[\"phiz_\"+str(coupler_index)]/2/np.pi, label=r\"coupler$_{0:d}$\".format(i))\n",
    "    plt.plot(s, custom_flux_dict_pwsw[\"phiz_\"+str(coupler_index)]/2/np.pi, '--', color=\"C{0:d}\".format(i), lw=2.5, label=r\"coupler$_{0:d}$\".format(i))\n",
    "    \n",
    "    plt.xlabel(r\"$s=t/t_a$\"); plt.ylabel(r\"$\\varphi_z/2\\pi$\")\n",
    "    plt.legend()\n",
    "    \n",
    "    \n",
    "plt.tight_layout()\n",
    "plt.show()"
   ]
  },
  {
   "attachments": {},
   "cell_type": "markdown",
   "metadata": {},
   "source": [
    "# Problem proposal\n",
    "\n",
    "Once you know how to implement the annealing and have an idea of how to run a quantum adiabatic algorithm in real hardware we ask you to to provide a design of how to run the AQO for the TSP. Doing a simulation on this problem as above may take several hours. Instead, you may do the follwing steps:\n",
    "\n",
    "1. Find a totally non-trivial optimization problem in [11] that you can implement with 3-5 qubits. \n",
    "\n",
    "2. Design a layout for the circuit.\n",
    "\n",
    "3. Simulate the spectrum of the circuit using CAS.\n",
    "\n",
    "4. Propose an Ising annealing schedule. In [1] you can find more information about the appropriate forms of schedules\n",
    "\n",
    "5. Find the corresponding flux schedule and propose ways to check its correctness. \n",
    "\n",
    "6. Once you have completed all these steps, propose ways to scale these procedures to more qubits. Some techniques for finding the gap along the annealing process can be found in [7], [8], [9] and [10]. Can you implement a simulation from one of these papers? Research and propose better techniques to find the flux schedule for a given Ising schedule with a greater amount of qubits.  "
   ]
  },
  {
   "attachments": {},
   "cell_type": "markdown",
   "metadata": {},
   "source": [
    "## Bibliography\n",
    "\n",
    "[1] Customized quantum annealing schedules: https://arxiv.org/abs/2103.06461\n",
    "\n",
    "[2] CAS repository: https://github.com/USCqserver/CAS\n",
    "\n",
    "[3] Optimal Control for Closed and Open System Quantum Optimization: https://arxiv.org/abs/2107.03517 \n",
    "\n",
    "[4] scqubits: a Python package for superconducting qubits: https://arxiv.org/abs/2107.08552\n",
    "\n",
    "[5] scqubits Github repository: https://github.com/scqubits/scqubits\n",
    "\n",
    "[6] QuTip: https://qutip.org\n",
    "\n",
    "[7] Adiabatic Spectroscopy and a Variational Quantum Adiabatic Algorithm: https://arxiv.org/abs/2103.01226\n",
    "\n",
    "[8] Direct estimation of the energy gap between the ground state and excited state with quantum annealing: https://arxiv.org/abs/2007.10561\n",
    "\n",
    "[9] Simulating quantum circuits by adiabatic computation: improved spectral gap bounds: https://arxiv.org/abs/1906.05233\n",
    "\n",
    "[10] Spectroscopy on two coupled flux qubits: https://arxiv.org/abs/cond-mat/0308192\n",
    "\n",
    "[11] Ising formulations of many NP problems: https://arxiv.org/pdf/1302.5843.pdf\n",
    "\n",
    "[12] Quantum Speedup by Quantum Annealing: https://arxiv.org/pdf/1202.6257.pdf\n",
    "\n",
    "[13] Anneal-path correction in flux qubits: https://arxiv.org/abs/2002.11217"
   ]
  },
  {
   "attachments": {},
   "cell_type": "markdown",
   "metadata": {},
   "source": [
    "Solution"
   ]
  },
  {
   "attachments": {},
   "cell_type": "markdown",
   "metadata": {},
   "source": [
    "Exact cover problem:\n",
    "![problem_i.png](./problem_i.png)\n",
    "![problem_i.png](./problem_ii.png)\n"
   ]
  },
  {
   "cell_type": "code",
   "execution_count": 57,
   "metadata": {},
   "outputs": [],
   "source": [
    "import numpy as np\n",
    "import scipy as sc\n",
    "import matplotlib.pyplot as plt\n",
    "import cas as cas\n",
    "import importlib\n",
    "import pickle\n",
    "import inspect"
   ]
  },
  {
   "cell_type": "code",
   "execution_count": 63,
   "metadata": {},
   "outputs": [],
   "source": [
    "# qubit\n",
    "i_c = 230; c_shunt = 50; c_z = 4.4; lq = 480; alpha = 0.4; d = 0.0\n",
    "\n",
    "qubit = cas.CSFQ(i_c, c_shunt, c_z, lq, alpha, d)\n",
    "\n",
    "# coupler\n",
    "i_sigma = 565; c_sigma = 11; lc = 580; d = 0.0\n",
    "\n",
    "coupler = cas.Coupler(i_sigma, c_sigma, lc, d)"
   ]
  },
  {
   "attachments": {},
   "cell_type": "markdown",
   "metadata": {},
   "source": [
    "Create circuit object: for dividing set into N subsets, N qubits are needed and N-1 couplers between them"
   ]
  },
  {
   "cell_type": "code",
   "execution_count": 59,
   "metadata": {},
   "outputs": [],
   "source": [
    "i_c = 230; c_shunt = 50; c_z = 4.4; lq = 480; alpha = 0.4; d = 0.0\n",
    "qubit0 = cas.CSFQ(i_c, c_shunt, c_z, lq, alpha, d)\n",
    "qubit1 = cas.CSFQ(i_c, c_shunt, c_z, lq, alpha, d)\n",
    "qubit2 = cas.CSFQ(i_c, c_shunt, c_z, lq, alpha, d)\n",
    "\n",
    "i_sigma = 565; c_sigma = 11; lc = 580; d = 0.0\n",
    "coupler01 = cas.Coupler(i_sigma, c_sigma, lc, d)\n",
    "coupler12 = cas.Coupler(i_sigma, c_sigma, lc, d)"
   ]
  },
  {
   "cell_type": "code",
   "execution_count": 62,
   "metadata": {},
   "outputs": [
    {
     "data": {
      "text/plain": [
       "'Arguments\\n        ---------\\n        elements : list\\n            an ordered list of circuit objects\\n        mutual_mat : ndarray\\n            the mutual matrix that describes how the circuit elements in\\n            \"elements\" are coupled. The matrix indices correspond to the\\n            objects in the \"elements\".\\n            If elements i and j are coupled to each other via mutual inductance\\n            of M, then we should have mutual_mat[i,j] = mutual_mat[j,i] = -M\\n            dim=(len(elements), len(elements))\\n        trunc_vec : ndarray\\n            low-energy truncation for circuit elements: how many low energy\\n            eigenvalues to keep for each object in \"elements\"\\n            values must be >= 2\\n            dim=len(elements)\\n'"
      ]
     },
     "execution_count": 62,
     "metadata": {},
     "output_type": "execute_result"
    }
   ],
   "source": [
    "elements = [qubit0, coupler01, qubit1, coupler12, qubit2]\n",
    "\n",
    "m = 65; m_mat = np.zeros((5,5));\n",
    "\n",
    "m_mat[0, 1] = m; m_mat[1, 2] = m;\n",
    "m_mat[2, 3] = -m; m_mat[3, 4] = m;\n",
    "\n",
    "m_mat = -(m_mat + m_mat.T) # clever!\n",
    "\n",
    "trunc_vec = np.array([6, 3, 6, 3, 6])\n",
    "\n",
    "circuit = cas.AnnealingCircuit(elements, m_mat, trunc_vec)"
   ]
  },
  {
   "attachments": {},
   "cell_type": "markdown",
   "metadata": {},
   "source": [
    "now: find custom circuit fluxes for fixed Pauli Schedule.\n",
    "\n",
    "Variation of Pauli weights h(x or z,k) are hard to predict, so we take our initial guess to change linearly over the course of our annealing process"
   ]
  },
  {
   "attachments": {},
   "cell_type": "markdown",
   "metadata": {},
   "source": [
    "this is also where our exact problem design comes into play: from eq. (28) and (29) from the problem definition, we take initial guesses for the values of x(0,1,2), z(0,1,2) for all three qubits and the corresponding two coupler terms. For that, we map the classical binary x(i) variable onto a variable corresponding to qubits:\n",
    "\n",
    "$$ x = \\frac{1-z}{2}, z \\in \\{-1, 1\\} \\textrm{ for } x \\in \\{0,1\\} $$"
   ]
  },
  {
   "attachments": {},
   "cell_type": "markdown",
   "metadata": {},
   "source": [
    "Transforming the Hamiltonian into z variables that correspond to the spin state of the three qubits that we used:\n",
    "\n",
    "\n",
    "$$ \\begin{split} H &=  H_A + H_B \\\\ \n",
    "                &= A \\sum_\\alpha (1 - \\sum_i x_i)^2 + B \\sum_i x_i \\\\\n",
    "                &= A ( 1 - x_1 -x_2 - x_3)^2 + B (x_1 + x_2 + x_3)\\\\\n",
    "                &= A ( 1 + \\sum_{i=1}^3 (\\frac{1-z_i}{2})^2 - 2 \\sum_i \\frac{1-z_i}{2} + 2 \\sum_{i \\ne j} \\frac{1-z_i}{2} \\frac{1-z_j}{2} ) + \\frac{B}{2} (N - \\sum_i z_i) \\\\\n",
    "                &= A (-\\frac{11}{4} - \\frac{3}{2} \\sum_i z_i + \\frac{1}{4}\\sum_i z_i^2 - \\frac{1}{2} \\sum_{i \\ne j} z_i z_j ) + \\frac{B}{2} (N - \\sum_i z_i)\n",
    "        \\end{split}$$"
   ]
  },
  {
   "attachments": {},
   "cell_type": "markdown",
   "metadata": {},
   "source": [
    "From this, we see that the h(x) weights should be zero, while the h(z) gates' weights should, at the end of the annealing, be in a weighted state that is determined by the parameters of A and B of the problem.\n",
    "Sadly, the time constraints of this hackathon didn't allow us to fully carry out the annealing - a first try of the implemented h(x) and h(z) phases can be seen below."
   ]
  },
  {
   "cell_type": "code",
   "execution_count": 67,
   "metadata": {},
   "outputs": [],
   "source": [
    "ising_dict = {}; pts = 10;\n",
    "s = np.linspace(0, 1, pts)\n",
    "ising_dict[\"points\"] = pts\n",
    "\n",
    "A = 1; B = 1\n",
    "\n",
    "ising_dict[\"x_0\"] = np.linspace(0.5, 0, pts)*2*np.pi\n",
    "ising_dict[\"x_1\"] = np.linspace(0.5, 0, pts)*2*np.pi\n",
    "ising_dict[\"x_2\"] = np.linspace(0.5, 0, pts)*2*np.pi\n",
    "\n",
    "ising_dict[\"z_0\"] = np.linspace(0, np.abs(- 3/2 * A - B/2, pts))*2*np.pi\n",
    "ising_dict[\"z_1\"] = np.linspace(0, np.abs(- 3/2 * A - B/2, pts))*2*np.pi\n",
    "ising_dict[\"z_2\"] = np.linspace(0, np.abs(- 3/2 * A - B/2, pts))*2*np.pi\n",
    "\n",
    "ising_dict[\"zz_0,1\"] = -np.linspace(0.0, 0.9, pts)*2*np.pi\n",
    "ising_dict[\"zz_1,2\"] = np.linspace(0.0, 0.8, pts)*2*np.pi"
   ]
  },
  {
   "cell_type": "code",
   "execution_count": 65,
   "metadata": {},
   "outputs": [
    {
     "name": "stdout",
     "output_type": "stream",
     "text": [
      "calculating qubit biases for qubit 1 of 3\n",
      "point #9 single qubit residuals: \n",
      " [-9.41061442e-02  6.82576224e-05] \n",
      "\n",
      "calculating qubit biases for qubit 2 of 3\n",
      "schedule point 1 / 10\u001b[1K\r"
     ]
    },
    {
     "name": "stderr",
     "output_type": "stream",
     "text": [
      "c:\\Users\\djami\\AppData\\Local\\Programs\\Python\\Python310\\lib\\site-packages\\cas\\elements.py:617: UserWarning: For the point #9, solver found solutions that are not optimal. The relative error is 1.50 % for single qubit residuals\n",
      "  warnings.warn(\n"
     ]
    },
    {
     "name": "stdout",
     "output_type": "stream",
     "text": [
      "point #9 single qubit residuals: \n",
      " [-9.31598055e-02  5.29194745e-05] \n",
      "\n",
      "calculating qubit biases for qubit 3 of 3\n",
      "schedule point 1 / 10\u001b[1K\r"
     ]
    },
    {
     "name": "stderr",
     "output_type": "stream",
     "text": [
      "c:\\Users\\djami\\AppData\\Local\\Programs\\Python\\Python310\\lib\\site-packages\\cas\\elements.py:617: UserWarning: For the point #9, solver found solutions that are not optimal. The relative error is 1.85 % for single qubit residuals\n",
      "  warnings.warn(\n"
     ]
    },
    {
     "name": "stdout",
     "output_type": "stream",
     "text": [
      "schedule point 10 / 10\u001b[1K\n",
      " calculating coupler bias for coupler 1 of 2\n",
      "schedule point 10 / 10\u001b[1K\n",
      " calculating coupler bias for coupler 2 of 2\n",
      "schedule point 10 / 10\u001b[1K\r"
     ]
    }
   ],
   "source": [
    "custom_flux_dict_pwsw = circuit.get_custom_fluxes_pwsw(ising_dict, verbose=True, optimizer_method=\"leastsq\")"
   ]
  },
  {
   "attachments": {},
   "cell_type": "markdown",
   "metadata": {},
   "source": [
    "And now plot the progression of the resulting phases phi(x or z) that result from the SW transformation, feeding the h weights from above:"
   ]
  },
  {
   "cell_type": "code",
   "execution_count": 66,
   "metadata": {},
   "outputs": [
    {
     "data": {
      "image/png": "[encoded data removed]",
      "text/plain": [
       "<Figure size 720x504 with 4 Axes>"
      ]
     },
     "metadata": {
      "needs_background": "light"
     },
     "output_type": "display_data"
    }
   ],
   "source": [
    "plt.clf();\n",
    "fig = plt.figure(num=1);\n",
    "fig.set_size_inches((10, 7))\n",
    "\n",
    "ax1 = plt.subplot(2, 2, 1)\n",
    "for i, qubit_index in enumerate(circuit.qubit_indices):\n",
    "    \n",
    " #   plt.plot(s, custom_flux_dict_num[\"phix_\"+str(qubit_index)]/2/np.pi, label=r\"qubit$_{0:d}$\".format(i))\n",
    "    plt.plot(s, custom_flux_dict_pwsw[\"phix_\"+str(qubit_index)]/2/np.pi, '--', color=\"C{0:d}\".format(i), lw=2.5, label=r\"qubit$_{0:d}$\".format(i),)\n",
    "    \n",
    "    plt.xlabel(r\"$s=t/t_a$\"); plt.ylabel(r\"$\\varphi_x/2\\pi$\")\n",
    "    plt.legend()\n",
    "\n",
    "ax2 = plt.subplot(2, 2, 2)\n",
    "for i, qubit_index in enumerate(circuit.qubit_indices):\n",
    "    \n",
    " #   plt.plot(s, custom_flux_dict_num[\"phiz_\"+str(qubit_index)]/2/np.pi, label=r\"qubit$_{0:d}$\".format(i))\n",
    "    plt.plot(s, custom_flux_dict_pwsw[\"phiz_\"+str(qubit_index)]/2/np.pi, '--', color=\"C{0:d}\".format(i), lw=2.5, label=r\"qubit$_{0:d}$\".format(i))\n",
    "    \n",
    "    plt.xlabel(r\"$s=t/t_a$\"); plt.ylabel(r\"$\\varphi_z/2\\pi$\")\n",
    "    plt.legend()\n",
    "    \n",
    "ax3 = plt.subplot(2, 2, 3)\n",
    "# plt.hlines(1, 0, 1, alpha=0.3)\n",
    "for i, coupler_index in enumerate(circuit.coupler_indices):\n",
    "    \n",
    " #   plt.plot(s, custom_flux_dict_num[\"phix_\"+str(coupler_index)]/2/np.pi, label=r\"coupler$_{0:d}$\".format(i))\n",
    "    plt.plot(s, custom_flux_dict_pwsw[\"phix_\"+str(coupler_index)]/2/np.pi, '--', color=\"C{0:d}\".format(i), lw=2.5, label=r\"coupler$_{0:d}$\".format(i))\n",
    "    \n",
    "    plt.xlabel(r\"$s=t/t_a$\"); plt.ylabel(r\"$\\varphi_x/2\\pi$\")\n",
    "    plt.legend()\n",
    "    \n",
    "ax4 = plt.subplot(2, 2, 4)\n",
    "for i, coupler_index in enumerate(circuit.coupler_indices):\n",
    "    \n",
    " #   plt.plot(s, custom_flux_dict_num[\"phiz_\"+str(coupler_index)]/2/np.pi, label=r\"coupler$_{0:d}$\".format(i))\n",
    "    plt.plot(s, custom_flux_dict_pwsw[\"phiz_\"+str(coupler_index)]/2/np.pi, '--', color=\"C{0:d}\".format(i), lw=2.5, label=r\"coupler$_{0:d}$\".format(i))\n",
    "    \n",
    "    plt.xlabel(r\"$s=t/t_a$\"); plt.ylabel(r\"$\\varphi_z/2\\pi$\")\n",
    "    plt.legend()\n",
    "    \n",
    "    \n",
    "plt.tight_layout()\n",
    "plt.show()"
   ]
  },
  {
   "cell_type": "code",
   "execution_count": null,
   "metadata": {},
   "outputs": [],
   "source": []
  }
 ],
 "metadata": {
  "kernelspec": {
   "display_name": "Qilimanjaro-ETH-Hackathon",
   "language": "python",
   "name": "python3"
  },
  "language_info": {
   "codemirror_mode": {
    "name": "ipython",
    "version": 3
   },
   "file_extension": ".py",
   "mimetype": "text/x-python",
   "name": "python",
   "nbconvert_exporter": "python",
   "pygments_lexer": "ipython3",
   "version": "3.10.5"
  },
  "orig_nbformat": 4
 },
 "nbformat": 4,
 "nbformat_minor": 2
}
